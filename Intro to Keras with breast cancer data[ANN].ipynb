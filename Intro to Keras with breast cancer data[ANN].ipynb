{
 "cells": [
  {
   "cell_type": "code",
   "execution_count": 32,
   "metadata": {},
   "outputs": [],
   "source": [
    "import pandas as pd\n",
    "import numpy as np\n",
    "import matplotlib.pyplot as plt\n",
    "import seaborn as sns\n"
   ]
  },
  {
   "cell_type": "code",
   "execution_count": 33,
   "metadata": {},
   "outputs": [],
   "source": [
    "data = pd.read_csv(\"input/data.csv\")\n",
    "del data[\"Unnamed: 32\"]"
   ]
  },
  {
   "cell_type": "code",
   "execution_count": 34,
   "metadata": {},
   "outputs": [],
   "source": [
    "x = data.iloc[:,2:].values\n",
    "y = data.iloc[:,1].values"
   ]
  },
  {
   "cell_type": "code",
   "execution_count": 35,
   "metadata": {},
   "outputs": [],
   "source": [
    "from sklearn.preprocessing import LabelEncoder\n",
    "label_encoder = LabelEncoder()\n",
    "y = label_encoder.fit_transform(y)"
   ]
  },
  {
   "cell_type": "code",
   "execution_count": 36,
   "metadata": {},
   "outputs": [],
   "source": [
    "from sklearn.model_selection import train_test_split\n",
    "X_train,X_test,y_train,y_test = train_test_split(x,y,test_size=0.1,random_state=0)"
   ]
  },
  {
   "cell_type": "code",
   "execution_count": 37,
   "metadata": {},
   "outputs": [],
   "source": [
    "from sklearn.preprocessing import StandardScaler\n",
    "sc = StandardScaler()\n",
    "X_train =sc.fit_transform(X_train)\n",
    "X_test = sc.fit_transform(X_test)"
   ]
  },
  {
   "cell_type": "code",
   "execution_count": 39,
   "metadata": {},
   "outputs": [],
   "source": [
    "import keras\n",
    "from keras.models import Sequential\n",
    "from keras.layers import Dense,Dropout\n"
   ]
  },
  {
   "cell_type": "code",
   "execution_count": 40,
   "metadata": {},
   "outputs": [],
   "source": [
    "model = Sequential()"
   ]
  },
  {
   "cell_type": "code",
   "execution_count": 41,
   "metadata": {},
   "outputs": [
    {
     "name": "stderr",
     "output_type": "stream",
     "text": [
      "C:\\Users\\Debanik Roy\\Anaconda3\\lib\\site-packages\\ipykernel_launcher.py:1: UserWarning: Update your `Dense` call to the Keras 2 API: `Dense(activation=\"relu\", input_dim=30, units=16, kernel_initializer=\"uniform\")`\n",
      "  \"\"\"Entry point for launching an IPython kernel.\n",
      "C:\\Users\\Debanik Roy\\Anaconda3\\lib\\site-packages\\ipykernel_launcher.py:2: UserWarning: Update your `Dropout` call to the Keras 2 API: `Dropout(rate=0.1)`\n",
      "  \n",
      "C:\\Users\\Debanik Roy\\Anaconda3\\lib\\site-packages\\ipykernel_launcher.py:4: UserWarning: Update your `Dense` call to the Keras 2 API: `Dense(activation=\"relu\", units=16, kernel_initializer=\"uniform\")`\n",
      "  after removing the cwd from sys.path.\n",
      "C:\\Users\\Debanik Roy\\Anaconda3\\lib\\site-packages\\ipykernel_launcher.py:5: UserWarning: Update your `Dropout` call to the Keras 2 API: `Dropout(rate=0.1)`\n",
      "  \"\"\"\n",
      "C:\\Users\\Debanik Roy\\Anaconda3\\lib\\site-packages\\ipykernel_launcher.py:7: UserWarning: Update your `Dense` call to the Keras 2 API: `Dense(activation=\"sigmoid\", units=1, kernel_initializer=\"uniform\")`\n",
      "  import sys\n"
     ]
    }
   ],
   "source": [
    "model.add(Dense(output_dim = 16,init=\"uniform\",activation=\"relu\",input_dim=30))\n",
    "model.add(Dropout(p=0.1))\n",
    "\n",
    "model.add(Dense(output_dim =16, init=\"uniform\",activation=\"relu\"))\n",
    "model.add(Dropout(p=0.1))\n",
    "\n",
    "model.add(Dense(output_dim=1, init=\"uniform\",activation=\"sigmoid\"))"
   ]
  },
  {
   "cell_type": "code",
   "execution_count": 42,
   "metadata": {},
   "outputs": [],
   "source": [
    "model.compile(optimizer=\"adam\",loss=\"binary_crossentropy\",metrics=[\"accuracy\"])"
   ]
  },
  {
   "cell_type": "code",
   "execution_count": 43,
   "metadata": {},
   "outputs": [
    {
     "name": "stderr",
     "output_type": "stream",
     "text": [
      "C:\\Users\\Debanik Roy\\Anaconda3\\lib\\site-packages\\ipykernel_launcher.py:1: UserWarning: The `nb_epoch` argument in `fit` has been renamed `epochs`.\n",
      "  \"\"\"Entry point for launching an IPython kernel.\n"
     ]
    },
    {
     "name": "stdout",
     "output_type": "stream",
     "text": [
      "Epoch 1/150\n",
      "512/512 [==============================] - 1s 3ms/step - loss: 0.6925 - acc: 0.6836\n",
      "Epoch 2/150\n",
      "512/512 [==============================] - 0s 64us/step - loss: 0.6904 - acc: 0.7324\n",
      "Epoch 3/150\n",
      "512/512 [==============================] - 0s 41us/step - loss: 0.6865 - acc: 0.8047\n",
      "Epoch 4/150\n",
      "512/512 [==============================] - 0s 36us/step - loss: 0.6805 - acc: 0.8770\n",
      "Epoch 5/150\n",
      "512/512 [==============================] - 0s 42us/step - loss: 0.6714 - acc: 0.9238\n",
      "Epoch 6/150\n",
      "512/512 [==============================] - 0s 42us/step - loss: 0.6564 - acc: 0.9277\n",
      "Epoch 7/150\n",
      "512/512 [==============================] - 0s 42us/step - loss: 0.6349 - acc: 0.9316\n",
      "Epoch 8/150\n",
      "512/512 [==============================] - 0s 56us/step - loss: 0.6081 - acc: 0.9375\n",
      "Epoch 9/150\n",
      "512/512 [==============================] - 0s 36us/step - loss: 0.5685 - acc: 0.9395\n",
      "Epoch 10/150\n",
      "512/512 [==============================] - 0s 47us/step - loss: 0.5251 - acc: 0.9414\n",
      "Epoch 11/150\n",
      "512/512 [==============================] - 0s 46us/step - loss: 0.4754 - acc: 0.9512\n",
      "Epoch 12/150\n",
      "512/512 [==============================] - 0s 36us/step - loss: 0.4262 - acc: 0.9453\n",
      "Epoch 13/150\n",
      "512/512 [==============================] - 0s 36us/step - loss: 0.3721 - acc: 0.9531\n",
      "Epoch 14/150\n",
      "512/512 [==============================] - 0s 36us/step - loss: 0.3261 - acc: 0.9551\n",
      "Epoch 15/150\n",
      "512/512 [==============================] - 0s 36us/step - loss: 0.2796 - acc: 0.9609\n",
      "Epoch 16/150\n",
      "512/512 [==============================] - 0s 33us/step - loss: 0.2513 - acc: 0.9609\n",
      "Epoch 17/150\n",
      "512/512 [==============================] - 0s 39us/step - loss: 0.2176 - acc: 0.9668\n",
      "Epoch 18/150\n",
      "512/512 [==============================] - 0s 40us/step - loss: 0.1925 - acc: 0.9629\n",
      "Epoch 19/150\n",
      "512/512 [==============================] - 0s 35us/step - loss: 0.1738 - acc: 0.9648\n",
      "Epoch 20/150\n",
      "512/512 [==============================] - 0s 38us/step - loss: 0.1593 - acc: 0.9687\n",
      "Epoch 21/150\n",
      "512/512 [==============================] - 0s 32us/step - loss: 0.1418 - acc: 0.9687\n",
      "Epoch 22/150\n",
      "512/512 [==============================] - 0s 40us/step - loss: 0.1304 - acc: 0.9688\n",
      "Epoch 23/150\n",
      "512/512 [==============================] - 0s 37us/step - loss: 0.1240 - acc: 0.9727\n",
      "Epoch 24/150\n",
      "512/512 [==============================] - 0s 36us/step - loss: 0.1203 - acc: 0.9727\n",
      "Epoch 25/150\n",
      "512/512 [==============================] - 0s 43us/step - loss: 0.1085 - acc: 0.9746\n",
      "Epoch 26/150\n",
      "512/512 [==============================] - 0s 29us/step - loss: 0.1032 - acc: 0.9746\n",
      "Epoch 27/150\n",
      "512/512 [==============================] - 0s 36us/step - loss: 0.0989 - acc: 0.9785\n",
      "Epoch 28/150\n",
      "512/512 [==============================] - 0s 40us/step - loss: 0.0960 - acc: 0.9746\n",
      "Epoch 29/150\n",
      "512/512 [==============================] - 0s 34us/step - loss: 0.0923 - acc: 0.9785\n",
      "Epoch 30/150\n",
      "512/512 [==============================] - 0s 36us/step - loss: 0.0916 - acc: 0.9766\n",
      "Epoch 31/150\n",
      "512/512 [==============================] - 0s 30us/step - loss: 0.0888 - acc: 0.9824\n",
      "Epoch 32/150\n",
      "512/512 [==============================] - 0s 36us/step - loss: 0.0837 - acc: 0.9844\n",
      "Epoch 33/150\n",
      "512/512 [==============================] - 0s 39us/step - loss: 0.0827 - acc: 0.9824\n",
      "Epoch 34/150\n",
      "512/512 [==============================] - 0s 38us/step - loss: 0.0813 - acc: 0.9805\n",
      "Epoch 35/150\n",
      "512/512 [==============================] - ETA: 0s - loss: 0.0644 - acc: 0.990 - 0s 33us/step - loss: 0.0804 - acc: 0.9805\n",
      "Epoch 36/150\n",
      "512/512 [==============================] - 0s 35us/step - loss: 0.0748 - acc: 0.9844\n",
      "Epoch 37/150\n",
      "512/512 [==============================] - 0s 35us/step - loss: 0.0762 - acc: 0.9824\n",
      "Epoch 38/150\n",
      "512/512 [==============================] - 0s 38us/step - loss: 0.0693 - acc: 0.9824\n",
      "Epoch 39/150\n",
      "512/512 [==============================] - 0s 44us/step - loss: 0.0752 - acc: 0.9824\n",
      "Epoch 40/150\n",
      "512/512 [==============================] - 0s 35us/step - loss: 0.0735 - acc: 0.9824\n",
      "Epoch 41/150\n",
      "512/512 [==============================] - 0s 46us/step - loss: 0.0701 - acc: 0.9844\n",
      "Epoch 42/150\n",
      "512/512 [==============================] - 0s 31us/step - loss: 0.0703 - acc: 0.9824\n",
      "Epoch 43/150\n",
      "512/512 [==============================] - 0s 33us/step - loss: 0.0698 - acc: 0.9805\n",
      "Epoch 44/150\n",
      "512/512 [==============================] - 0s 36us/step - loss: 0.0678 - acc: 0.9844\n",
      "Epoch 45/150\n",
      "512/512 [==============================] - 0s 32us/step - loss: 0.0681 - acc: 0.9844\n",
      "Epoch 46/150\n",
      "512/512 [==============================] - 0s 33us/step - loss: 0.0676 - acc: 0.9863\n",
      "Epoch 47/150\n",
      "512/512 [==============================] - 0s 40us/step - loss: 0.0668 - acc: 0.9863\n",
      "Epoch 48/150\n",
      "512/512 [==============================] - 0s 41us/step - loss: 0.0641 - acc: 0.9844\n",
      "Epoch 49/150\n",
      "512/512 [==============================] - 0s 31us/step - loss: 0.0636 - acc: 0.9844\n",
      "Epoch 50/150\n",
      "512/512 [==============================] - 0s 31us/step - loss: 0.0644 - acc: 0.9863\n",
      "Epoch 51/150\n",
      "512/512 [==============================] - 0s 38us/step - loss: 0.0661 - acc: 0.9863\n",
      "Epoch 52/150\n",
      "512/512 [==============================] - 0s 33us/step - loss: 0.0624 - acc: 0.9844\n",
      "Epoch 53/150\n",
      "512/512 [==============================] - 0s 43us/step - loss: 0.0613 - acc: 0.9844\n",
      "Epoch 54/150\n",
      "512/512 [==============================] - 0s 32us/step - loss: 0.0621 - acc: 0.9844\n",
      "Epoch 55/150\n",
      "512/512 [==============================] - 0s 42us/step - loss: 0.0650 - acc: 0.9824\n",
      "Epoch 56/150\n",
      "512/512 [==============================] - 0s 36us/step - loss: 0.0603 - acc: 0.9844\n",
      "Epoch 57/150\n",
      "512/512 [==============================] - 0s 35us/step - loss: 0.0644 - acc: 0.9824\n",
      "Epoch 58/150\n",
      "512/512 [==============================] - 0s 40us/step - loss: 0.0575 - acc: 0.9844\n",
      "Epoch 59/150\n",
      "512/512 [==============================] - 0s 34us/step - loss: 0.0623 - acc: 0.9844\n",
      "Epoch 60/150\n",
      "512/512 [==============================] - 0s 28us/step - loss: 0.0570 - acc: 0.9844\n",
      "Epoch 61/150\n",
      "512/512 [==============================] - 0s 42us/step - loss: 0.0555 - acc: 0.9844\n",
      "Epoch 62/150\n",
      "512/512 [==============================] - 0s 42us/step - loss: 0.0591 - acc: 0.9844\n",
      "Epoch 63/150\n",
      "512/512 [==============================] - 0s 39us/step - loss: 0.0558 - acc: 0.9844\n",
      "Epoch 64/150\n",
      "512/512 [==============================] - 0s 35us/step - loss: 0.0536 - acc: 0.9863\n",
      "Epoch 65/150\n",
      "512/512 [==============================] - 0s 34us/step - loss: 0.0594 - acc: 0.9824\n",
      "Epoch 66/150\n",
      "512/512 [==============================] - 0s 36us/step - loss: 0.0564 - acc: 0.9844\n",
      "Epoch 67/150\n",
      "512/512 [==============================] - 0s 33us/step - loss: 0.0547 - acc: 0.9844\n",
      "Epoch 68/150\n",
      "512/512 [==============================] - 0s 36us/step - loss: 0.0558 - acc: 0.9844\n",
      "Epoch 69/150\n",
      "512/512 [==============================] - 0s 34us/step - loss: 0.0501 - acc: 0.9844\n",
      "Epoch 70/150\n",
      "512/512 [==============================] - 0s 35us/step - loss: 0.0547 - acc: 0.9844\n",
      "Epoch 71/150\n",
      "512/512 [==============================] - 0s 31us/step - loss: 0.0554 - acc: 0.9863\n",
      "Epoch 72/150\n",
      "512/512 [==============================] - 0s 33us/step - loss: 0.0519 - acc: 0.9863\n",
      "Epoch 73/150\n",
      "512/512 [==============================] - 0s 38us/step - loss: 0.0466 - acc: 0.9844\n",
      "Epoch 74/150\n",
      "512/512 [==============================] - 0s 29us/step - loss: 0.0578 - acc: 0.9844\n",
      "Epoch 75/150\n",
      "512/512 [==============================] - 0s 41us/step - loss: 0.0525 - acc: 0.9844\n",
      "Epoch 76/150\n",
      "512/512 [==============================] - 0s 33us/step - loss: 0.0535 - acc: 0.9863\n",
      "Epoch 77/150\n",
      "512/512 [==============================] - 0s 32us/step - loss: 0.0548 - acc: 0.9863\n",
      "Epoch 78/150\n",
      "512/512 [==============================] - 0s 34us/step - loss: 0.0497 - acc: 0.9863\n",
      "Epoch 79/150\n",
      "512/512 [==============================] - 0s 38us/step - loss: 0.0484 - acc: 0.9883\n",
      "Epoch 80/150\n",
      "512/512 [==============================] - 0s 37us/step - loss: 0.0481 - acc: 0.9883\n",
      "Epoch 81/150\n",
      "512/512 [==============================] - 0s 30us/step - loss: 0.0476 - acc: 0.9883\n",
      "Epoch 82/150\n",
      "512/512 [==============================] - 0s 26us/step - loss: 0.0515 - acc: 0.9883\n",
      "Epoch 83/150\n",
      "512/512 [==============================] - 0s 39us/step - loss: 0.0514 - acc: 0.9902\n",
      "Epoch 84/150\n"
     ]
    },
    {
     "name": "stdout",
     "output_type": "stream",
     "text": [
      "512/512 [==============================] - 0s 30us/step - loss: 0.0531 - acc: 0.9883\n",
      "Epoch 85/150\n",
      "512/512 [==============================] - 0s 31us/step - loss: 0.0479 - acc: 0.9883\n",
      "Epoch 86/150\n",
      "512/512 [==============================] - 0s 46us/step - loss: 0.0479 - acc: 0.9883\n",
      "Epoch 87/150\n",
      "512/512 [==============================] - 0s 23us/step - loss: 0.0486 - acc: 0.9863\n",
      "Epoch 88/150\n",
      "512/512 [==============================] - 0s 29us/step - loss: 0.0487 - acc: 0.9902\n",
      "Epoch 89/150\n",
      "512/512 [==============================] - 0s 37us/step - loss: 0.0454 - acc: 0.9902\n",
      "Epoch 90/150\n",
      "512/512 [==============================] - ETA: 0s - loss: 0.0859 - acc: 0.980 - 0s 37us/step - loss: 0.0553 - acc: 0.9883\n",
      "Epoch 91/150\n",
      "512/512 [==============================] - 0s 48us/step - loss: 0.0524 - acc: 0.9863\n",
      "Epoch 92/150\n",
      "512/512 [==============================] - 0s 47us/step - loss: 0.0468 - acc: 0.9883\n",
      "Epoch 93/150\n",
      "512/512 [==============================] - 0s 37us/step - loss: 0.0468 - acc: 0.9883\n",
      "Epoch 94/150\n",
      "512/512 [==============================] - 0s 50us/step - loss: 0.0476 - acc: 0.9902\n",
      "Epoch 95/150\n",
      "512/512 [==============================] - 0s 53us/step - loss: 0.0445 - acc: 0.9863\n",
      "Epoch 96/150\n",
      "512/512 [==============================] - 0s 42us/step - loss: 0.0483 - acc: 0.9863\n",
      "Epoch 97/150\n",
      "512/512 [==============================] - 0s 42us/step - loss: 0.0489 - acc: 0.9883\n",
      "Epoch 98/150\n",
      "512/512 [==============================] - 0s 36us/step - loss: 0.0453 - acc: 0.9883\n",
      "Epoch 99/150\n",
      "512/512 [==============================] - 0s 40us/step - loss: 0.0485 - acc: 0.9883\n",
      "Epoch 100/150\n",
      "512/512 [==============================] - 0s 60us/step - loss: 0.0442 - acc: 0.9902\n",
      "Epoch 101/150\n",
      "512/512 [==============================] - 0s 52us/step - loss: 0.0431 - acc: 0.9883\n",
      "Epoch 102/150\n",
      "512/512 [==============================] - 0s 48us/step - loss: 0.0473 - acc: 0.9863\n",
      "Epoch 103/150\n",
      "512/512 [==============================] - 0s 31us/step - loss: 0.0461 - acc: 0.9883\n",
      "Epoch 104/150\n",
      "512/512 [==============================] - 0s 35us/step - loss: 0.0441 - acc: 0.9883\n",
      "Epoch 105/150\n",
      "512/512 [==============================] - 0s 33us/step - loss: 0.0492 - acc: 0.9902\n",
      "Epoch 106/150\n",
      "512/512 [==============================] - 0s 48us/step - loss: 0.0451 - acc: 0.9902\n",
      "Epoch 107/150\n",
      "512/512 [==============================] - 0s 40us/step - loss: 0.0430 - acc: 0.9902\n",
      "Epoch 108/150\n",
      "512/512 [==============================] - 0s 32us/step - loss: 0.0368 - acc: 0.9902\n",
      "Epoch 109/150\n",
      "512/512 [==============================] - 0s 39us/step - loss: 0.0451 - acc: 0.9883\n",
      "Epoch 110/150\n",
      "512/512 [==============================] - 0s 45us/step - loss: 0.0468 - acc: 0.9902\n",
      "Epoch 111/150\n",
      "512/512 [==============================] - 0s 33us/step - loss: 0.0411 - acc: 0.9922\n",
      "Epoch 112/150\n",
      "512/512 [==============================] - 0s 45us/step - loss: 0.0417 - acc: 0.9922\n",
      "Epoch 113/150\n",
      "512/512 [==============================] - 0s 44us/step - loss: 0.0454 - acc: 0.9922\n",
      "Epoch 114/150\n",
      "512/512 [==============================] - 0s 39us/step - loss: 0.0426 - acc: 0.9922\n",
      "Epoch 115/150\n",
      "512/512 [==============================] - 0s 43us/step - loss: 0.0399 - acc: 0.9922\n",
      "Epoch 116/150\n",
      "512/512 [==============================] - 0s 37us/step - loss: 0.0466 - acc: 0.9922\n",
      "Epoch 117/150\n",
      "512/512 [==============================] - 0s 40us/step - loss: 0.0464 - acc: 0.9902\n",
      "Epoch 118/150\n",
      "512/512 [==============================] - 0s 35us/step - loss: 0.0385 - acc: 0.9922\n",
      "Epoch 119/150\n",
      "512/512 [==============================] - 0s 35us/step - loss: 0.0403 - acc: 0.9902\n",
      "Epoch 120/150\n",
      "512/512 [==============================] - 0s 38us/step - loss: 0.0407 - acc: 0.9902\n",
      "Epoch 121/150\n",
      "512/512 [==============================] - 0s 46us/step - loss: 0.0415 - acc: 0.9922\n",
      "Epoch 122/150\n",
      "512/512 [==============================] - 0s 31us/step - loss: 0.0404 - acc: 0.9922\n",
      "Epoch 123/150\n",
      "512/512 [==============================] - 0s 36us/step - loss: 0.0431 - acc: 0.9902\n",
      "Epoch 124/150\n",
      "512/512 [==============================] - 0s 44us/step - loss: 0.0446 - acc: 0.9922\n",
      "Epoch 125/150\n",
      "512/512 [==============================] - 0s 33us/step - loss: 0.0384 - acc: 0.9922\n",
      "Epoch 126/150\n",
      "512/512 [==============================] - 0s 32us/step - loss: 0.0427 - acc: 0.9902\n",
      "Epoch 127/150\n",
      "512/512 [==============================] - 0s 30us/step - loss: 0.0421 - acc: 0.9922\n",
      "Epoch 128/150\n",
      "512/512 [==============================] - 0s 40us/step - loss: 0.0398 - acc: 0.9922\n",
      "Epoch 129/150\n",
      "512/512 [==============================] - 0s 39us/step - loss: 0.0414 - acc: 0.9922\n",
      "Epoch 130/150\n",
      "512/512 [==============================] - 0s 42us/step - loss: 0.0414 - acc: 0.9902\n",
      "Epoch 131/150\n",
      "512/512 [==============================] - 0s 39us/step - loss: 0.0423 - acc: 0.9883\n",
      "Epoch 132/150\n",
      "512/512 [==============================] - 0s 30us/step - loss: 0.0351 - acc: 0.9922\n",
      "Epoch 133/150\n",
      "512/512 [==============================] - 0s 37us/step - loss: 0.0411 - acc: 0.9902\n",
      "Epoch 134/150\n",
      "512/512 [==============================] - 0s 33us/step - loss: 0.0374 - acc: 0.9922\n",
      "Epoch 135/150\n",
      "512/512 [==============================] - 0s 43us/step - loss: 0.0416 - acc: 0.9922\n",
      "Epoch 136/150\n",
      "512/512 [==============================] - ETA: 0s - loss: 0.0184 - acc: 1.000 - 0s 38us/step - loss: 0.0402 - acc: 0.9922\n",
      "Epoch 137/150\n",
      "512/512 [==============================] - 0s 34us/step - loss: 0.0445 - acc: 0.9902\n",
      "Epoch 138/150\n",
      "512/512 [==============================] - 0s 28us/step - loss: 0.0351 - acc: 0.9922\n",
      "Epoch 139/150\n",
      "512/512 [==============================] - 0s 29us/step - loss: 0.0375 - acc: 0.9922\n",
      "Epoch 140/150\n",
      "512/512 [==============================] - 0s 37us/step - loss: 0.0395 - acc: 0.9922\n",
      "Epoch 141/150\n",
      "512/512 [==============================] - 0s 32us/step - loss: 0.0390 - acc: 0.9922\n",
      "Epoch 142/150\n",
      "512/512 [==============================] - 0s 29us/step - loss: 0.0398 - acc: 0.9902\n",
      "Epoch 143/150\n",
      "512/512 [==============================] - 0s 28us/step - loss: 0.0397 - acc: 0.9922\n",
      "Epoch 144/150\n",
      "512/512 [==============================] - 0s 40us/step - loss: 0.0365 - acc: 0.9922\n",
      "Epoch 145/150\n",
      "512/512 [==============================] - 0s 32us/step - loss: 0.0408 - acc: 0.9902\n",
      "Epoch 146/150\n",
      "512/512 [==============================] - 0s 48us/step - loss: 0.0410 - acc: 0.9902\n",
      "Epoch 147/150\n",
      "512/512 [==============================] - 0s 28us/step - loss: 0.0420 - acc: 0.9902\n",
      "Epoch 148/150\n",
      "512/512 [==============================] - 0s 40us/step - loss: 0.0428 - acc: 0.9883\n",
      "Epoch 149/150\n",
      "512/512 [==============================] - 0s 36us/step - loss: 0.0423 - acc: 0.9902\n",
      "Epoch 150/150\n",
      "512/512 [==============================] - 0s 33us/step - loss: 0.0387 - acc: 0.9922\n"
     ]
    },
    {
     "data": {
      "text/plain": [
       "<keras.callbacks.History at 0x13372c640b8>"
      ]
     },
     "execution_count": 43,
     "metadata": {},
     "output_type": "execute_result"
    }
   ],
   "source": [
    "model.fit(X_train,y_train,batch_size=100,nb_epoch=150)"
   ]
  },
  {
   "cell_type": "code",
   "execution_count": 44,
   "metadata": {},
   "outputs": [],
   "source": [
    "y_pred = model.predict(X_test)\n",
    "y_pred = (y_pred>0.5)"
   ]
  },
  {
   "cell_type": "code",
   "execution_count": 45,
   "metadata": {},
   "outputs": [],
   "source": [
    "from sklearn.metrics import confusion_matrix\n",
    "cm = confusion_matrix(y_test,y_pred)"
   ]
  },
  {
   "cell_type": "code",
   "execution_count": 46,
   "metadata": {},
   "outputs": [
    {
     "name": "stdout",
     "output_type": "stream",
     "text": [
      "Our accuracy is 94.73684210526315%\n"
     ]
    }
   ],
   "source": [
    "print(\"Our accuracy is {}%\".format(((cm[0][0] + cm[1][1])/57)*100))"
   ]
  },
  {
   "cell_type": "code",
   "execution_count": 47,
   "metadata": {},
   "outputs": [
    {
     "data": {
      "image/png": "[encoded data removed]",
      "text/plain": [
       "<Figure size 432x288 with 2 Axes>"
      ]
     },
     "metadata": {
      "needs_background": "light"
     },
     "output_type": "display_data"
    }
   ],
   "source": [
    "sns.heatmap(cm,annot=True)\n",
    "plt.savefig(\"h.png\")"
   ]
  },
  {
   "cell_type": "code",
   "execution_count": null,
   "metadata": {},
   "outputs": [],
   "source": []
  }
 ],
 "metadata": {
  "kernelspec": {
   "display_name": "Python 3",
   "language": "python",
   "name": "python3"
  },
  "language_info": {
   "codemirror_mode": {
    "name": "ipython",
    "version": 3
   },
   "file_extension": ".py",
   "mimetype": "text/x-python",
   "name": "python",
   "nbconvert_exporter": "python",
   "pygments_lexer": "ipython3",
   "version": "3.7.3"
  }
 },
 "nbformat": 4,
 "nbformat_minor": 2
}
